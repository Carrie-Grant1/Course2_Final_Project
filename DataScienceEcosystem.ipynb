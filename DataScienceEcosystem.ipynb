{
 "cells": [
  {
   "cell_type": "markdown",
   "id": "19521483",
   "metadata": {},
   "source": [
    "# Data Science Tools and Ecosystem"
   ]
  },
  {
   "cell_type": "markdown",
   "id": "15857614",
   "metadata": {},
   "source": [
    "## Author:\n",
    "Carrie Grant"
   ]
  },
  {
   "cell_type": "markdown",
   "id": "47d48251",
   "metadata": {},
   "source": [
    "### In this notebook, Data Science Tools and Ecosystem are summarized."
   ]
  },
  {
   "cell_type": "markdown",
   "id": "d297ad11",
   "metadata": {},
   "source": [
    "**Objectives**\\\n",
    "-List Popular Languages for Data Science\\\n",
    "-List Commonly Used Libraries for Data Science\\\n",
    "-Illustrate how to create a table in Python\\\n",
    "-Run some basic arithmetic expressions\\\n",
    "-Create a Jupyter Note effectively"
   ]
  },
  {
   "cell_type": "markdown",
   "id": "c91f49c7",
   "metadata": {},
   "source": [
    "#### Some of the popular languages that Data Scientists use are:\n",
    "1. Python\n",
    "2. R and RStudio\n",
    "3. SQL\n",
    "4. Scala\n",
    "5. Julia\n",
    "6. JavaScript\n",
    "7. Java"
   ]
  },
  {
   "cell_type": "markdown",
   "id": "4c34df42",
   "metadata": {},
   "source": [
    "#### Some of the most commonly used libraries used by Data Scientistis include:\n",
    "1. NumPy\n",
    "2. Matplotlib\n",
    "3. Pandas\n",
    "4. ggplot2\n",
    "5. GGally"
   ]
  },
  {
   "cell_type": "markdown",
   "id": "49e5fbae",
   "metadata": {},
   "source": [
    "#### Data Science Tools Table\n",
    "|Data Science Tools|\n",
    "|------------------|\n",
    "|MySQL|\n",
    "|PostgreSQL|\n",
    "|Apache Hadoop|\n",
    "\n"
   ]
  },
  {
   "cell_type": "markdown",
   "id": "bca496b3",
   "metadata": {},
   "source": [
    "### Below are a few examples of evaluating arithmetic expressions in Python."
   ]
  },
  {
   "cell_type": "code",
   "execution_count": 3,
   "id": "f07da580",
   "metadata": {},
   "outputs": [
    {
     "data": {
      "text/plain": [
       "16"
      ]
     },
     "execution_count": 3,
     "metadata": {},
     "output_type": "execute_result"
    }
   ],
   "source": [
    "4**2"
   ]
  },
  {
   "cell_type": "code",
   "execution_count": 4,
   "id": "ed167e3d",
   "metadata": {},
   "outputs": [
    {
     "data": {
      "text/plain": [
       "12"
      ]
     },
     "execution_count": 4,
     "metadata": {},
     "output_type": "execute_result"
    }
   ],
   "source": [
    "5+7"
   ]
  },
  {
   "cell_type": "code",
   "execution_count": 5,
   "id": "06528236",
   "metadata": {},
   "outputs": [
    {
     "data": {
      "text/plain": [
       "90"
      ]
     },
     "execution_count": 5,
     "metadata": {},
     "output_type": "execute_result"
    }
   ],
   "source": [
    "(50-5)*2"
   ]
  },
  {
   "cell_type": "code",
   "execution_count": 6,
   "id": "6067dba7",
   "metadata": {},
   "outputs": [
    {
     "data": {
      "text/plain": [
       "17"
      ]
     },
     "execution_count": 6,
     "metadata": {},
     "output_type": "execute_result"
    }
   ],
   "source": [
    "# This is a simple arithmetic expression to multiply then add integers.\n",
    "(3*4)+5"
   ]
  },
  {
   "cell_type": "code",
   "execution_count": 7,
   "id": "47a584fb",
   "metadata": {},
   "outputs": [
    {
     "name": "stdout",
     "output_type": "stream",
     "text": [
      "200 minutes is equal to 3.3333333333333335 hours.\n"
     ]
    }
   ],
   "source": [
    "# This will convert 200 minutes to hours by dividing by 60.\n",
    "x=200\n",
    "y=200/60\n",
    "print(x,\"minutes is equal to\",y,\"hours.\")"
   ]
  },
  {
   "cell_type": "code",
   "execution_count": null,
   "id": "9bf8383c",
   "metadata": {},
   "outputs": [],
   "source": []
  }
 ],
 "metadata": {
  "kernelspec": {
   "display_name": "Python 3 (ipykernel)",
   "language": "python",
   "name": "python3"
  },
  "language_info": {
   "codemirror_mode": {
    "name": "ipython",
    "version": 3
   },
   "file_extension": ".py",
   "mimetype": "text/x-python",
   "name": "python",
   "nbconvert_exporter": "python",
   "pygments_lexer": "ipython3",
   "version": "3.11.5"
  }
 },
 "nbformat": 4,
 "nbformat_minor": 5
}
